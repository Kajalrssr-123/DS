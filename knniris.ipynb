{
 "cells": [
  {
   "cell_type": "code",
   "execution_count": 2,
   "metadata": {},
   "outputs": [],
   "source": [
    "from sklearn.model_selection import train_test_split\n",
    "from sklearn.neighbors import KNeighborsClassifier\n",
    "from sklearn.datasets import load_iris"
   ]
  },
  {
   "cell_type": "code",
   "execution_count": 3,
   "metadata": {},
   "outputs": [
    {
     "name": "stdout",
     "output_type": "stream",
     "text": [
      "[2 0 2 2 2 1 2 0 0 2 0 0 0 1 2 0 1 0 0 2 0 2 1 0 0 0 0 0 0 2]\n"
     ]
    }
   ],
   "source": [
    "irisdata = load_iris()\n",
    "x = irisdata.data\n",
    "y = irisdata.target\n",
    "x_train,x_test,y_train,y_test = train_test_split(x, y, test_size = 0.2, random_state = 4)\n",
    "knn = KNeighborsClassifier(n_neighbors = 7)\n",
    "knn.fit(x_train, y_train)\n",
    "print(knn.predict(x_test))"
   ]
  },
  {
   "cell_type": "code",
   "execution_count": 31,
   "metadata": {},
   "outputs": [
    {
     "name": "stdout",
     "output_type": "stream",
     "text": [
      "['outstanding']\n"
     ]
    }
   ],
   "source": [
    "data = pd.read_csv('data.csv')\n",
    "x_values = data.iloc[:,[0,1]]\n",
    "y = data.iloc[:,[2]]\n",
    "y_values = y.values.reshape(-1,)\n",
    "knn  = KNeighborsClassifier(n_neighbors = 3, metric='minkowski')\n",
    "knn.fit(x_values.values, y_values)\n",
    "new_data = [[11,35]]\n",
    "predicted_class = knn.predict(new_data)\n",
    "print(predicted_class)"
   ]
  },
  {
   "cell_type": "code",
   "execution_count": 25,
   "metadata": {},
   "outputs": [
    {
     "name": "stdout",
     "output_type": "stream",
     "text": [
      "['good']\n"
     ]
    }
   ],
   "source": [
    "data = pd.read_csv('data.csv')\n",
    "x_values = data.iloc[:,[0,1]]\n",
    "y = data.iloc[:,[2]]\n",
    "y_values = y.values.reshape(-1,)\n",
    "knn  = KNeighborsClassifier(n_neighbors = 3, metric='euclidean')\n",
    "knn.fit(x_values.values, y_values)\n",
    "new_data = [[11,17]]\n",
    "predicted_class = knn.predict(new_data)\n",
    "print(predicted_class)"
   ]
  },
  {
   "cell_type": "code",
   "execution_count": 28,
   "metadata": {},
   "outputs": [
    {
     "name": "stdout",
     "output_type": "stream",
     "text": [
      "['average']\n"
     ]
    }
   ],
   "source": [
    "data = pd.read_csv('data.csv')\n",
    "x_values = data.iloc[:,[0,1]]\n",
    "y = data.iloc[:,[2]]\n",
    "y_values = y.values.reshape(-1,)\n",
    "knn  = KNeighborsClassifier(n_neighbors = 3, metric='manhattan')\n",
    "knn.fit(x_values.values, y_values)\n",
    "new_data = [[11,17]]\n",
    "predicted_class = knn.predict(new_data)\n",
    "print(predicted_class)"
   ]
  },
  {
   "cell_type": "code",
   "execution_count": 30,
   "metadata": {},
   "outputs": [
    {
     "name": "stdout",
     "output_type": "stream",
     "text": [
      "['average']\n"
     ]
    }
   ],
   "source": [
    "data = pd.read_csv('data.csv')\n",
    "x_values = data.iloc[:,[0,1]]\n",
    "y = data.iloc[:,[2]]\n",
    "y_values = y.values.reshape(-1,)\n",
    "knn  = KNeighborsClassifier(n_neighbors = 3, metric='hamming')\n",
    "knn.fit(x_values.values, y_values)\n",
    "new_data = [[11,17]]\n",
    "predicted_class = knn.predict(new_data)\n",
    "print(predicted_class)"
   ]
  }
 ],
 "metadata": {
  "kernelspec": {
   "display_name": "Python 3",
   "language": "python",
   "name": "python3"
  },
  "language_info": {
   "codemirror_mode": {
    "name": "ipython",
    "version": 3
   },
   "file_extension": ".py",
   "mimetype": "text/x-python",
   "name": "python",
   "nbconvert_exporter": "python",
   "pygments_lexer": "ipython3",
   "version": "3.7.6"
  }
 },
 "nbformat": 4,
 "nbformat_minor": 4
}
